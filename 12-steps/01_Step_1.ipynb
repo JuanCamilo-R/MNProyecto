{
 "cells": [
  {
   "cell_type": "code",
   "metadata": {
    "cell_id": "91578bf3-5439-487a-ac6c-987fd82c8fe3",
    "deepnote_to_be_reexecuted": false,
    "source_hash": "4e882942",
    "execution_start": 1644790547478,
    "execution_millis": 32,
    "deepnote_cell_type": "code"
   },
   "source": "Text provided under a Creative Commons Attribution license, CC-BY.  All code is made available under the FSF-approved BSD-3 license.  (c) Lorena A. Barba, Gilbert F. Forsyth 2017. Thanks to NSF for support via CAREER award #1149784.",
   "execution_count": null,
   "outputs": [
    {
     "output_type": "error",
     "ename": "SyntaxError",
     "evalue": "invalid syntax (<ipython-input-1-e8dcab80e634>, line 1)",
     "traceback": [
      "\u001b[0;36m  File \u001b[0;32m\"<ipython-input-1-e8dcab80e634>\"\u001b[0;36m, line \u001b[0;32m1\u001b[0m\n\u001b[0;31m    Text provided under a Creative Commons Attribution license, CC-BY.  All code is made available under the FSF-approved BSD-3 license.  (c) Lorena A. Barba, Gilbert F. Forsyth 2017. Thanks to NSF for support via CAREER award #1149784.\u001b[0m\n\u001b[0m                ^\u001b[0m\n\u001b[0;31mSyntaxError\u001b[0m\u001b[0;31m:\u001b[0m invalid syntax\n"
     ]
    }
   ]
  },
  {
   "cell_type": "markdown",
   "source": "[@LorenaABarba](https://twitter.com/LorenaABarba)",
   "metadata": {
    "cell_id": "00001-d0f675d3-f30a-4c2b-bff1-62098a1f929c",
    "deepnote_cell_type": "markdown"
   }
  },
  {
   "cell_type": "markdown",
   "source": "12 steps to Navier–Stokes\n======\n***",
   "metadata": {
    "cell_id": "00002-3b24ca80-6051-4f31-a74a-5a3e373701a7",
    "deepnote_cell_type": "markdown"
   }
  },
  {
   "cell_type": "markdown",
   "source": "Hello! Welcome to the **12 steps to Navier–Stokes**. This is a practical module that is used in the beginning of an interactive Computational Fluid Dynamics (CFD) course taught by [Prof. Lorena Barba](http://lorenabarba.com) since Spring 2009 at Boston University. The course assumes only basic programming knowledge (in any language) and of course some foundation in partial differential equations and fluid mechanics. The practical module was inspired by the ideas of Dr. Rio Yokota, who was a post-doc in Barba's lab, and has been refined by Prof. Barba and her students over several semesters teaching the course. The course is taught entirely using Python and students who don't know Python just learn as we work through the module.\n\nThis [Jupyter notebook](https://jupyter-notebook.readthedocs.io/en/stable/) will lead you through the first step of programming your own Navier–Stokes solver in Python from the ground up.  We're going to dive right in.  Don't worry if you don't understand everything that's happening at first, we'll cover it in detail as we move forward and you can support your learning with the videos of [Prof. Barba's lectures on YouTube](http://www.youtube.com/playlist?list=PL30F4C5ABCE62CB61).\n\nFor best results, after you follow this notebook, prepare your own code for Step 1, either as a Python script or in a clean Jupyter notebook.\n\nTo execute this Notebook, we assume you have invoked the notebook server using: `jupyter notebook`.",
   "metadata": {
    "cell_id": "00003-41a4990c-07c9-4c50-9e2d-c718f68e92f6",
    "deepnote_cell_type": "markdown"
   }
  },
  {
   "cell_type": "markdown",
   "source": "Step 1: 1-D Linear Convection\n-----\n***",
   "metadata": {
    "cell_id": "00004-66ee672a-562a-4b76-93b3-1f559fe683ff",
    "deepnote_cell_type": "markdown"
   }
  },
  {
   "cell_type": "markdown",
   "source": "The 1-D Linear Convection equation is the simplest, most basic model that can be used to learn something about CFD. It is surprising that this little equation can teach us so much! Here it is:\n\n$$\\frac{\\partial u}{\\partial t} + c \\frac{\\partial u}{\\partial x} = 0$$\n\nWith given initial conditions (understood as a *wave*), the equation represents the propagation of that initial *wave* with speed $c$, without change of shape. Let the initial condition be $u(x,0)=u_0(x)$. Then the exact solution of the equation is $u(x,t)=u_0(x-ct)$.\n\nWe discretize this equation in both space and time, using the Forward Difference scheme for the time derivative and the Backward Difference scheme for the space derivative. Consider discretizing the spatial coordinate $x$ into points that we index from $i=0$ to $N$, and stepping in discrete time intervals of size $\\Delta t$.\n\nFrom the definition of a derivative (and simply removing the limit), we know that:\n\n$$\\frac{\\partial u}{\\partial x}\\approx \\frac{u(x+\\Delta x)-u(x)}{\\Delta x}$$\n\nOur discrete equation, then, is:\n\n$$\\frac{u_i^{n+1}-u_i^n}{\\Delta t} + c \\frac{u_i^n - u_{i-1}^n}{\\Delta x} = 0 $$\n\nWhere $n$ and $n+1$ are two consecutive steps in time, while $i-1$ and $i$ are two neighboring points of the discretized $x$ coordinate. If there are given initial conditions, then the only unknown in this discretization is $u_i^{n+1}$.  We can solve for our unknown to get an equation that allows us to advance in time, as follows:\n\n$$u_i^{n+1} = u_i^n - c \\frac{\\Delta t}{\\Delta x}(u_i^n-u_{i-1}^n)$$\n\nNow let's try implementing this in Python.  \n\nWe'll start by importing a few libraries to help us out.\n\n* `numpy` is a library that provides a bunch of useful matrix operations akin to MATLAB\n* `matplotlib` is a 2D plotting library that we will use to plot our results\n* `time` and `sys` provide basic timing functions that we'll use to slow down animations for viewing",
   "metadata": {
    "cell_id": "00005-e6071b8d-a472-48de-bf1e-75ec91db2bb6",
    "deepnote_cell_type": "markdown"
   }
  },
  {
   "cell_type": "code",
   "metadata": {
    "collapsed": false,
    "cell_id": "00006-28acc1c4-aaaf-49f8-9f51-38283809bdf9",
    "deepnote_to_be_reexecuted": true,
    "source_hash": "614c9140",
    "execution_start": 1644789630190,
    "execution_millis": 2505,
    "deepnote_cell_type": "code"
   },
   "source": "# Remember: comments in python are denoted by the pound sign\nimport numpy                       #here we load numpy\nfrom matplotlib import pyplot      #here we load matplotlib\nimport time, sys                   #and load some utilities\n",
   "execution_count": null,
   "outputs": []
  },
  {
   "cell_type": "code",
   "metadata": {
    "collapsed": false,
    "cell_id": "00007-980d9b49-701d-4921-a497-39c43661eda5",
    "deepnote_to_be_reexecuted": true,
    "source_hash": "23805869",
    "execution_start": 1644789634699,
    "execution_millis": 13,
    "deepnote_cell_type": "code"
   },
   "source": "#this makes matplotlib plots appear in the notebook (instead of a separate window)\n%matplotlib inline                  ",
   "execution_count": null,
   "outputs": []
  },
  {
   "cell_type": "markdown",
   "source": "Now let's define a few variables; we want to define an evenly spaced grid of points within a spatial domain that is 2 units of length wide, i.e., $x_i\\in(0,2)$.  We'll define a variable `nx`, which will be the number of grid points we want and `dx` will be the distance between any pair of adjacent grid points.  ",
   "metadata": {
    "cell_id": "00008-6fa2de88-1475-49fb-b5ca-3e67fdbeaf10",
    "deepnote_cell_type": "markdown"
   }
  },
  {
   "cell_type": "code",
   "metadata": {
    "collapsed": false,
    "cell_id": "00009-75c08ec7-5377-480b-8ea7-8b6b58df8865",
    "deepnote_to_be_reexecuted": true,
    "source_hash": "57ab8568",
    "execution_start": 1644790531319,
    "execution_millis": 6,
    "deepnote_cell_type": "code"
   },
   "source": "nx = 41  # try changing this number from 41 to 81 and Run All ... what happens?\ndx = 2 / (nx-1)\nnt = 25    #nt is the number of timesteps we want to calculate\ndt = .025  #dt is the amount of time each timestep covers (delta t)\nc = 1      #assume wavespeed of c = 1",
   "execution_count": null,
   "outputs": []
  },
  {
   "cell_type": "markdown",
   "source": "We also need to set up our initial conditions. The initial velocity $u_0$ is given as \n$u = 2$ in the interval $0.5 \\leq x \\leq 1$  and $u = 1$ everywhere else in $(0,2)$ (i.e., a hat function).\n\nHere, we use the function `ones()` defining a `numpy` array which is `nx` elements long with every value equal to 1.",
   "metadata": {
    "cell_id": "00010-fa984dc7-ae0d-493f-b496-e3c7420c065c",
    "deepnote_cell_type": "markdown"
   }
  },
  {
   "cell_type": "code",
   "metadata": {
    "collapsed": false,
    "cell_id": "00011-f24b2a1d-7638-42c0-881b-9f105bdf1dc6",
    "deepnote_to_be_reexecuted": true,
    "source_hash": "a26e1e0d",
    "execution_start": 1644790533131,
    "execution_millis": 104,
    "deepnote_cell_type": "code"
   },
   "source": "u = numpy.ones(nx)      #numpy function ones()\nu[int(.5 / dx):int(1 / dx + 1)] = 2  #setting u = 2 between 0.5 and 1 as per our I.C.s\nprint(u)",
   "execution_count": null,
   "outputs": [
    {
     "name": "stdout",
     "text": "[1. 1. 1. 1. 1. 1. 1. 1. 1. 1. 2. 2. 2. 2. 2. 2. 2. 2. 2. 2. 2. 1. 1. 1.\n 1. 1. 1. 1. 1. 1. 1. 1. 1. 1. 1. 1. 1. 1. 1. 1. 1.]\n",
     "output_type": "stream"
    }
   ]
  },
  {
   "cell_type": "markdown",
   "source": "Now let's take a look at those initial conditions using a Matplotlib plot.  We've imported the `matplotlib` plotting library `pyplot` and the plotting function is called `plot`, so we'll call `pyplot.plot`. To learn about the myriad possibilities of Matplotlib, explore the [Gallery](http://matplotlib.org/gallery.html) of example plots.\n\nHere, we use the syntax for a simple 2D plot: `plot(x,y)`, where the `x` values are evenly distributed grid points:",
   "metadata": {
    "cell_id": "00012-e1da9957-9876-4671-a08e-93150474d4aa",
    "deepnote_cell_type": "markdown"
   }
  },
  {
   "cell_type": "code",
   "metadata": {
    "collapsed": false,
    "cell_id": "00013-7d02b635-84fe-4284-9f92-2571b8ec01d7",
    "deepnote_output_heights": [
     250
    ],
    "deepnote_to_be_reexecuted": true,
    "source_hash": "b27eb6e5",
    "execution_start": 1644790536474,
    "execution_millis": 252,
    "deepnote_cell_type": "code"
   },
   "source": "pyplot.plot(numpy.linspace(0, 2, nx), u);",
   "execution_count": null,
   "outputs": [
    {
     "data": {
      "text/plain": "<Figure size 432x288 with 1 Axes>",
      "image/png": "[encoded data removed]"
     },
     "metadata": {
      "needs_background": "light",
      "image/png": {
       "width": 372,
       "height": 248
      }
     },
     "output_type": "display_data"
    }
   ]
  },
  {
   "cell_type": "markdown",
   "source": "Why doesn't the hat function have perfectly straight sides? Think for a bit.",
   "metadata": {
    "cell_id": "00014-26649d5c-64c9-4e2d-baca-8d67b2178734",
    "deepnote_cell_type": "markdown"
   }
  },
  {
   "cell_type": "markdown",
   "source": "Now it's time to implement the discretization of the convection equation using a finite-difference scheme.  \n\nFor every element of our array `u`, we need to perform the operation $u_i^{n+1} = u_i^n - c \\frac{\\Delta t}{\\Delta x}(u_i^n-u_{i-1}^n)$\n\nWe'll store the result in a new (temporary) array `un`, which will be the solution $u$ for the next time-step.  We will repeat this operation for as many time-steps as we specify and then we can see how far the wave has convected.  \n\nWe first initialize our placeholder array `un` to hold the values we calculate for the $n+1$ timestep, using once again the NumPy function `ones()`.\n\nThen, we may think we have two iterative operations: one in space and one in time (we'll learn differently later), so we'll start by nesting one loop inside the other. Note the use of the nifty `range()` function. When we write: `for i in range(1,nx)` we will iterate through the `u` array, but we'll be skipping the first element (the zero-th element).  *Why?*",
   "metadata": {
    "cell_id": "00015-64dc5a94-fe4d-4e34-a487-ca5b076a1c74",
    "deepnote_cell_type": "markdown"
   }
  },
  {
   "cell_type": "code",
   "metadata": {
    "collapsed": false,
    "cell_id": "00016-bba90749-6b38-42f5-b231-92842e12a569",
    "deepnote_to_be_reexecuted": true,
    "source_hash": "253db57f",
    "execution_start": 1644790540208,
    "execution_millis": 1,
    "deepnote_cell_type": "code"
   },
   "source": "un = numpy.ones(nx) #initialize a temporary array\n\nfor n in range(nt):  #loop for values of n from 0 to nt, so it will run nt times\n    un = u.copy() ##copy the existing values of u into un\n    for i in range(1, nx): ## you can try commenting this line and...\n    #for i in range(nx): ## ... uncommenting this line and see what happens!\n        u[i] = un[i] - c * dt / dx * (un[i] - un[i-1])\n        \n        ",
   "execution_count": null,
   "outputs": []
  },
  {
   "cell_type": "markdown",
   "source": "**Note**—We will learn later that the code as written above is quite inefficient, and there are better ways to write this, Python-style. But let's carry on.\n\nNow let's try plotting our `u` array after advancing in time.",
   "metadata": {
    "cell_id": "00017-f79cc187-6da7-4015-ba8e-d5f1fd377663",
    "deepnote_cell_type": "markdown"
   }
  },
  {
   "cell_type": "code",
   "metadata": {
    "collapsed": false,
    "cell_id": "00018-d21c0bbb-5c62-4a7b-830a-401636559796",
    "deepnote_output_heights": [
     250
    ],
    "deepnote_to_be_reexecuted": true,
    "source_hash": "b27eb6e5",
    "execution_start": 1644790542337,
    "execution_millis": 337,
    "deepnote_cell_type": "code"
   },
   "source": "pyplot.plot(numpy.linspace(0, 2, nx), u);",
   "execution_count": null,
   "outputs": [
    {
     "data": {
      "text/plain": "<Figure size 432x288 with 1 Axes>",
      "image/png": "[encoded data removed]"
     },
     "metadata": {
      "needs_background": "light",
      "image/png": {
       "width": 372,
       "height": 248
      }
     },
     "output_type": "display_data"
    }
   ]
  },
  {
   "cell_type": "markdown",
   "source": "OK! So our hat function has definitely moved to the right, but it's no longer a hat.  **What's going on?**",
   "metadata": {
    "cell_id": "00019-c3b92ad6-afab-4dd6-ac8d-63d23b9369a9",
    "deepnote_cell_type": "markdown"
   }
  },
  {
   "cell_type": "markdown",
   "source": "Learn More\n-----\n***",
   "metadata": {
    "cell_id": "00020-e082cce4-c44c-463f-b251-46696956190a",
    "deepnote_cell_type": "markdown"
   }
  },
  {
   "cell_type": "markdown",
   "source": "For a more thorough explanation of the finite-difference method, including topics like the truncation error, order of convergence and other details, watch **Video Lessons 2 and 3** by Prof. Barba on YouTube.",
   "metadata": {
    "cell_id": "00021-26cf0b39-cf21-46ad-b30f-acb0b3130748",
    "deepnote_cell_type": "markdown"
   }
  },
  {
   "cell_type": "code",
   "metadata": {
    "collapsed": false,
    "cell_id": "00022-63665f4e-c46e-4dff-ae80-15548deafbea",
    "deepnote_output_heights": [
     362
    ],
    "deepnote_to_be_reexecuted": true,
    "source_hash": "6491761f",
    "deepnote_cell_type": "code"
   },
   "source": "from IPython.display import YouTubeVideo\nYouTubeVideo('iz22_37mMkk')",
   "execution_count": null,
   "outputs": [
    {
     "data": {
      "image/jpeg": "[encoded data removed]",
      "text/html": "\n        <iframe\n            width=\"400\"\n            height=\"300\"\n            src=\"https://www.youtube.com/embed/iz22_37mMkk\"\n            frameborder=\"0\"\n            allowfullscreen\n        ></iframe>\n        ",
      "text/plain": "<IPython.lib.display.YouTubeVideo at 0x7ff9ad15d438>"
     },
     "execution_count": 8,
     "metadata": {},
     "output_type": "execute_result"
    }
   ]
  },
  {
   "cell_type": "code",
   "metadata": {
    "collapsed": false,
    "cell_id": "00023-946bcf1c-a4db-4c12-8276-204a5f726a4a",
    "deepnote_output_heights": [
     362
    ],
    "deepnote_to_be_reexecuted": true,
    "source_hash": "5bbca1a2",
    "deepnote_cell_type": "code"
   },
   "source": "YouTubeVideo('xq9YTcv-fQg')",
   "execution_count": null,
   "outputs": [
    {
     "data": {
      "image/jpeg": "[encoded data removed]",
      "text/html": "\n        <iframe\n            width=\"400\"\n            height=\"300\"\n            src=\"https://www.youtube.com/embed/xq9YTcv-fQg\"\n            frameborder=\"0\"\n            allowfullscreen\n        ></iframe>\n        ",
      "text/plain": "<IPython.lib.display.YouTubeVideo at 0x7ff9ad662cc0>"
     },
     "execution_count": 9,
     "metadata": {},
     "output_type": "execute_result"
    }
   ]
  },
  {
   "cell_type": "markdown",
   "source": "For a careful walk-through of the discretization of the linear convection equation with finite differences (and also the following steps, up to Step 4), watch **Video Lesson 4** by Prof. Barba on YouTube.",
   "metadata": {
    "cell_id": "00024-ecab9b12-be32-4405-965b-e632b07bf009",
    "deepnote_cell_type": "markdown"
   }
  },
  {
   "cell_type": "code",
   "metadata": {
    "collapsed": false,
    "cell_id": "00025-3de7f11a-fa49-4caf-9884-790399586435",
    "deepnote_output_heights": [
     362
    ],
    "deepnote_to_be_reexecuted": true,
    "source_hash": "6fe23dda",
    "deepnote_cell_type": "code"
   },
   "source": "YouTubeVideo('y2WaK7_iMRI')",
   "execution_count": null,
   "outputs": [
    {
     "data": {
      "image/jpeg": "[encoded data removed]",
      "text/html": "\n        <iframe\n            width=\"400\"\n            height=\"300\"\n            src=\"https://www.youtube.com/embed/y2WaK7_iMRI\"\n            frameborder=\"0\"\n            allowfullscreen\n        ></iframe>\n        ",
      "text/plain": "<IPython.lib.display.YouTubeVideo at 0x7ff9ad152b38>"
     },
     "execution_count": 10,
     "metadata": {},
     "output_type": "execute_result"
    }
   ]
  },
  {
   "cell_type": "markdown",
   "source": "## Last but not least",
   "metadata": {
    "cell_id": "00026-e02837df-39d7-4783-a632-3fe4719794e6",
    "deepnote_cell_type": "markdown"
   }
  },
  {
   "cell_type": "markdown",
   "source": "**Remember** to rewrite Step 1 as a fresh Python script or in *your own* Jupyter notebook and then experiment by changing the discretization parameters. Once you have done this, you will be ready for [Step 2](./02_Step_2.ipynb).\n\n\n***",
   "metadata": {
    "cell_id": "00027-4a410460-a202-43c8-80f8-effaee176f9b",
    "deepnote_cell_type": "markdown"
   }
  },
  {
   "cell_type": "code",
   "metadata": {
    "collapsed": false,
    "cell_id": "00028-e4780a86-218f-4d1f-a24c-70385cd9f64e",
    "deepnote_output_heights": [
     1
    ],
    "deepnote_to_be_reexecuted": true,
    "source_hash": "776c6e07",
    "deepnote_cell_type": "code"
   },
   "source": "from IPython.core.display import HTML\ndef css_styling():\n    styles = open(\"../styles/custom.css\", \"r\").read()\n    return HTML(styles)\ncss_styling()",
   "execution_count": null,
   "outputs": [
    {
     "data": {
      "text/html": "<link href='http://fonts.googleapis.com/css?family=Fenix' rel='stylesheet' type='text/css'>\n<link href='http://fonts.googleapis.com/css?family=Alegreya+Sans:100,300,400,500,700,800,900,100italic,300italic,400italic,500italic,700italic,800italic,900italic' rel='stylesheet' type='text/css'>\n<link href='http://fonts.googleapis.com/css?family=Source+Code+Pro:300,400' rel='stylesheet' type='text/css'>\n<style>\n    @font-face {\n        font-family: \"Computer Modern\";\n        src: url('http://mirrors.ctan.org/fonts/cm-unicode/fonts/otf/cmunss.otf');\n    }\n    div.cell{\n        width:800px;\n        margin-left:16% !important;\n        margin-right:auto;\n    }\n    h1 {\n        font-family: 'Alegreya Sans', sans-serif;\n    }\n    h2 {\n        font-family: 'Fenix', serif;\n    }\n    h3{\n\t\tfont-family: 'Fenix', serif;\n        margin-top:12px;\n        margin-bottom: 3px;\n       }\n\th4{\n\t\tfont-family: 'Fenix', serif;\n       }\n    h5 {\n        font-family: 'Alegreya Sans', sans-serif;\n    }\t   \n    div.text_cell_render{\n        font-family: 'Alegreya Sans',Computer Modern, \"Helvetica Neue\", Arial, Helvetica, Geneva, sans-serif;\n        line-height: 135%;\n        font-size: 120%;\n        width:600px;\n        margin-left:auto;\n        margin-right:auto;\n    }\n    .CodeMirror{\n            font-family: \"Source Code Pro\";\n\t\t\tfont-size: 90%;\n    }\n/*    .prompt{\n        display: None;\n    }*/\n    .text_cell_render h1 {\n        font-weight: 200;\n        font-size: 50pt;\n\t\tline-height: 100%;\n        color:#CD2305;\n        margin-bottom: 0.5em;\n        margin-top: 0.5em;\n        display: block;\n    }\t\n    .text_cell_render h5 {\n        font-weight: 300;\n        font-size: 16pt;\n        color: #CD2305;\n        font-style: italic;\n        margin-bottom: .5em;\n        margin-top: 0.5em;\n        display: block;\n    }\n    \n    .warning{\n        color: rgb( 240, 20, 20 )\n        }  \n</style>\n<script>\n    MathJax.Hub.Config({\n                        TeX: {\n                           extensions: [\"AMSmath.js\"]\n                           },\n                tex2jax: {\n                    inlineMath: [ ['$','$'], [\"\\\\(\",\"\\\\)\"] ],\n                    displayMath: [ ['$$','$$'], [\"\\\\[\",\"\\\\]\"] ]\n                },\n                displayAlign: 'center', // Change this to 'center' to center equations.\n                \"HTML-CSS\": {\n                    styles: {'.MathJax_Display': {\"margin\": 4}}\n                }\n        });\n</script>\n",
      "text/plain": "<IPython.core.display.HTML object>"
     },
     "execution_count": 11,
     "metadata": {},
     "output_type": "execute_result"
    }
   ]
  },
  {
   "cell_type": "markdown",
   "source": "> (The cell above executes the style for this notebook. We modified a style we found on the GitHub of [CamDavidsonPilon](https://github.com/CamDavidsonPilon), [@Cmrn_DP](https://twitter.com/cmrn_dp).)",
   "metadata": {
    "cell_id": "00029-d0716b7d-1c18-4354-8fe5-fc6bf142ecb4",
    "deepnote_cell_type": "markdown"
   }
  },
  {
   "cell_type": "markdown",
   "source": "<a style='text-decoration:none;line-height:16px;display:flex;color:#5B5B62;padding:10px;justify-content:end;' href='https://deepnote.com?utm_source=created-in-deepnote-cell&projectId=f89b38c5-96be-4dcf-9b5d-e1b96d9b5992' target=\"_blank\">\n<img alt='Created in deepnote.com' style='display:inline;max-height:16px;margin:0px;margin-right:7.5px;' src='data:image/svg+xml;base64,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' > </img>\nCreated in <span style='font-weight:600;margin-left:4px;'>Deepnote</span></a>",
   "metadata": {
    "tags": [],
    "created_in_deepnote_cell": true,
    "deepnote_cell_type": "markdown"
   }
  }
 ],
 "nbformat": 4,
 "nbformat_minor": 0,
 "metadata": {
  "kernelspec": {
   "display_name": "Python 3",
   "language": "python",
   "name": "python3"
  },
  "language_info": {
   "codemirror_mode": {
    "name": "ipython",
    "version": 3
   },
   "file_extension": ".py",
   "mimetype": "text/x-python",
   "name": "python",
   "nbconvert_exporter": "python",
   "pygments_lexer": "ipython3",
   "version": "3.5.2"
  },
  "deepnote_notebook_id": "53dc3ea0-5a62-4246-8a81-0cb66d6dd066",
  "deepnote": {},
  "deepnote_execution_queue": []
 }
}