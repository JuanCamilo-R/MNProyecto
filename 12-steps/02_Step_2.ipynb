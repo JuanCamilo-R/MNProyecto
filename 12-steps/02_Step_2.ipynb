{
 "cells": [
  {
   "cell_type": "code",
   "metadata": {
    "cell_id": "bfef2f6f-bd59-4b33-91b9-26ee5f891563",
    "deepnote_cell_type": "code"
   },
   "source": "Text provided under a Creative Commons Attribution license, CC-BY.  All code is made available under the FSF-approved BSD-3 license.  (c) Lorena A. Barba, Gilbert F. Forsyth 2017. Thanks to NSF for support via CAREER award #1149784.",
   "execution_count": null,
   "outputs": []
  },
  {
   "cell_type": "markdown",
   "source": "[@LorenaABarba](https://twitter.com/LorenaABarba)",
   "metadata": {
    "cell_id": "00001-c4b9b58c-6ff2-43cd-b7b8-5a915c7eff57",
    "deepnote_cell_type": "markdown"
   }
  },
  {
   "cell_type": "markdown",
   "source": "12 steps to Navier–Stokes\n======\n***",
   "metadata": {
    "cell_id": "00002-5ee4458b-b704-4cf8-9b8a-b8c669605a4d",
    "deepnote_cell_type": "markdown"
   }
  },
  {
   "cell_type": "markdown",
   "source": "This Jupyter notebook continues the presentation of the **12 steps to Navier–Stokes**, the practical module taught in the interactive CFD class of [Prof. Lorena Barba](http://lorenabarba.com). You should have completed [Step 1](./01_Step_1.ipynb) before continuing, having written your own Python script or notebook and having experimented with varying the parameters of the discretization and observing what happens.\n",
   "metadata": {
    "cell_id": "00003-06140b84-ed4c-4ff8-bb16-1cd8115c636f",
    "deepnote_cell_type": "markdown"
   }
  },
  {
   "cell_type": "markdown",
   "source": "Step 2: Nonlinear Convection\n-----\n***",
   "metadata": {
    "cell_id": "00004-b3774b41-6fdd-4411-8424-7de87541778d",
    "deepnote_cell_type": "markdown"
   }
  },
  {
   "cell_type": "markdown",
   "source": "Now we're going to implement nonlinear convection using the same methods as in step 1.  The 1D convection equation is:\n\n$$\\frac{\\partial u}{\\partial t} + u \\frac{\\partial u}{\\partial x} = 0$$\n\nInstead of a constant factor $c$ multiplying the second term, now we have the solution $u$ multiplying it. Thus, the second term of the equation is now *nonlinear*. We're going to use the same discretization as in Step 1 — forward difference in time and backward difference in space. Here is the discretized equation.\n\n$$\\frac{u_i^{n+1}-u_i^n}{\\Delta t} + u_i^n \\frac{u_i^n-u_{i-1}^n}{\\Delta x} = 0$$\n\nSolving for the only unknown term, $u_i^{n+1}$, yields:\n\n$$u_i^{n+1} = u_i^n - u_i^n \\frac{\\Delta t}{\\Delta x} (u_i^n - u_{i-1}^n)$$",
   "metadata": {
    "cell_id": "00005-5388b5b9-afb3-4f17-98c7-eedf4691547c",
    "deepnote_cell_type": "markdown"
   }
  },
  {
   "cell_type": "markdown",
   "source": "As before, the Python code starts by loading the necessary libraries. Then, we declare some variables that determine the discretization in space and time (you should experiment by changing these parameters to see what happens). Then, we create the initial condition $u_0$ by initializing the array for the solution using $u = 2\\ @\\ 0.5 \\leq x \\leq 1$  and $u = 1$ everywhere else in $(0,2)$ (i.e., a hat function).",
   "metadata": {
    "cell_id": "00006-536f86d5-e950-475a-87c9-96cc2bb8490c",
    "deepnote_cell_type": "markdown"
   }
  },
  {
   "cell_type": "code",
   "metadata": {
    "collapsed": true,
    "cell_id": "00007-dce2231d-c53d-4dfa-8ae8-26d82981aad0",
    "deepnote_to_be_reexecuted": false,
    "source_hash": "63c28962",
    "execution_start": 1644790930691,
    "execution_millis": 4,
    "deepnote_cell_type": "code"
   },
   "source": "import numpy                 # we're importing numpy \nfrom matplotlib import pyplot    # and our 2D plotting library\n%matplotlib inline\n\n\nnx = 41\ndx = 2 / (nx - 1)\nnt = 20    #nt is the number of timesteps we want to calculate\ndt = .025  #dt is the amount of time each timestep covers (delta t)\n\nu = numpy.ones(nx)      #as before, we initialize u with every value equal to 1.\nu[int(.5 / dx) : int(1 / dx + 1)] = 2  #then set u = 2 between 0.5 and 1 as per our I.C.s\n\nun = numpy.ones(nx) #initialize our placeholder array un, to hold the time-stepped solution",
   "execution_count": null,
   "outputs": []
  },
  {
   "cell_type": "markdown",
   "source": "The code snippet below is *unfinished*. We have copied over the line from [Step 1](./01_Step_1.ipynb) that executes the time-stepping update. Can you edit this code to execute the nonlinear convection instead?",
   "metadata": {
    "cell_id": "00008-9d2d0bf9-c38e-4abf-8bbf-761fc9cdc73b",
    "deepnote_cell_type": "markdown"
   }
  },
  {
   "cell_type": "code",
   "metadata": {
    "collapsed": false,
    "cell_id": "00009-9d793824-889a-4b6b-95f8-063a2747e3a4",
    "deepnote_to_be_reexecuted": false,
    "source_hash": "21f70c3f",
    "execution_start": 1644790934846,
    "execution_millis": 225,
    "deepnote_output_heights": [
     21.1875,
     250
    ],
    "deepnote_cell_type": "code"
   },
   "source": "for n in range(nt):  #iterate through time\n    un = u.copy() ##copy the existing values of u into un\n    for i in range(1, nx):  ##now we'll iterate through the u array\n    \n     ###This is the line from Step 1, copied exactly.  Edit it for our new equation.\n     ###then uncomment it and run the cell to evaluate Step 2   \n      \n           u[i] = un[i] - un[i]*(dt / dx)* (un[i] - un[i-1]) \n\n        \npyplot.plot(numpy.linspace(0, 2, nx), u) ##Plot the results",
   "execution_count": null,
   "outputs": [
    {
     "output_type": "execute_result",
     "execution_count": 10,
     "data": {
      "text/plain": "[<matplotlib.lines.Line2D at 0x7ff5f95a8310>]"
     },
     "metadata": {}
    },
    {
     "data": {
      "text/plain": "<Figure size 432x288 with 1 Axes>",
      "image/png": "[encoded data removed]"
     },
     "metadata": {
      "needs_background": "light",
      "image/png": {
       "width": 372,
       "height": 248
      }
     },
     "output_type": "display_data"
    }
   ]
  },
  {
   "cell_type": "markdown",
   "source": "What do you observe about the evolution of the hat function under the nonlinear convection equation? What happens when you change the numerical parameters and run again?",
   "metadata": {
    "cell_id": "00010-0e9b8bad-4f88-4a3e-9689-d32bf81daa9d",
    "deepnote_cell_type": "markdown"
   }
  },
  {
   "cell_type": "markdown",
   "source": "## Learn More",
   "metadata": {
    "cell_id": "00011-016ff19f-1533-436e-b93a-e40fae6553ca",
    "deepnote_cell_type": "markdown"
   }
  },
  {
   "cell_type": "markdown",
   "source": "For a careful walk-through of the discretization of the convection equation with finite differences (and all steps from 1 to 4), watch **Video Lesson 4** by Prof. Barba on YouTube.",
   "metadata": {
    "cell_id": "00012-01ab4ffe-6377-4a8d-8eba-138c2db19580",
    "deepnote_cell_type": "markdown"
   }
  },
  {
   "cell_type": "code",
   "metadata": {
    "collapsed": false,
    "cell_id": "00013-4e81f6ef-e535-4532-bfa7-19245ef0c578",
    "deepnote_output_heights": [
     362
    ],
    "deepnote_cell_type": "code"
   },
   "source": "from IPython.display import YouTubeVideo\nYouTubeVideo('y2WaK7_iMRI')",
   "execution_count": null,
   "outputs": [
    {
     "data": {
      "image/jpeg": "[encoded data removed]",
      "text/html": "\n        <iframe\n            width=\"400\"\n            height=\"300\"\n            src=\"https://www.youtube.com/embed/y2WaK7_iMRI\"\n            frameborder=\"0\"\n            allowfullscreen\n        ></iframe>\n        ",
      "text/plain": "<IPython.lib.display.YouTubeVideo at 0x7f994c6c0ac8>"
     },
     "execution_count": 2,
     "metadata": {},
     "output_type": "execute_result"
    }
   ]
  },
  {
   "cell_type": "code",
   "metadata": {
    "collapsed": false,
    "cell_id": "00014-d11e83d6-3b66-4b80-959e-a0b368514fbe",
    "deepnote_output_heights": [
     2
    ],
    "deepnote_cell_type": "code"
   },
   "source": "from IPython.core.display import HTML\ndef css_styling():\n    styles = open(\"../styles/custom.css\", \"r\").read()\n    return HTML(styles)\ncss_styling()",
   "execution_count": null,
   "outputs": [
    {
     "data": {
      "text/html": "<link href='http://fonts.googleapis.com/css?family=Fenix' rel='stylesheet' type='text/css'>\n<link href='http://fonts.googleapis.com/css?family=Alegreya+Sans:100,300,400,500,700,800,900,100italic,300italic,400italic,500italic,700italic,800italic,900italic' rel='stylesheet' type='text/css'>\n<link href='http://fonts.googleapis.com/css?family=Source+Code+Pro:300,400' rel='stylesheet' type='text/css'>\n<style>\n    @font-face {\n        font-family: \"Computer Modern\";\n        src: url('http://mirrors.ctan.org/fonts/cm-unicode/fonts/otf/cmunss.otf');\n    }\n    div.cell{\n        width:800px;\n        margin-left:16% !important;\n        margin-right:auto;\n    }\n    h1 {\n        font-family: 'Alegreya Sans', sans-serif;\n    }\n    h2 {\n        font-family: 'Fenix', serif;\n    }\n    h3{\n\t\tfont-family: 'Fenix', serif;\n        margin-top:12px;\n        margin-bottom: 3px;\n       }\n\th4{\n\t\tfont-family: 'Fenix', serif;\n       }\n    h5 {\n        font-family: 'Alegreya Sans', sans-serif;\n    }\t   \n    div.text_cell_render{\n        font-family: 'Alegreya Sans',Computer Modern, \"Helvetica Neue\", Arial, Helvetica, Geneva, sans-serif;\n        line-height: 135%;\n        font-size: 120%;\n        width:600px;\n        margin-left:auto;\n        margin-right:auto;\n    }\n    .CodeMirror{\n            font-family: \"Source Code Pro\";\n\t\t\tfont-size: 90%;\n    }\n/*    .prompt{\n        display: None;\n    }*/\n    .text_cell_render h1 {\n        font-weight: 200;\n        font-size: 50pt;\n\t\tline-height: 100%;\n        color:#CD2305;\n        margin-bottom: 0.5em;\n        margin-top: 0.5em;\n        display: block;\n    }\t\n    .text_cell_render h5 {\n        font-weight: 300;\n        font-size: 16pt;\n        color: #CD2305;\n        font-style: italic;\n        margin-bottom: .5em;\n        margin-top: 0.5em;\n        display: block;\n    }\n    \n    .warning{\n        color: rgb( 240, 20, 20 )\n        }  \n</style>\n<script>\n    MathJax.Hub.Config({\n                        TeX: {\n                           extensions: [\"AMSmath.js\"]\n                           },\n                tex2jax: {\n                    inlineMath: [ ['$','$'], [\"\\\\(\",\"\\\\)\"] ],\n                    displayMath: [ ['$$','$$'], [\"\\\\[\",\"\\\\]\"] ]\n                },\n                displayAlign: 'center', // Change this to 'center' to center equations.\n                \"HTML-CSS\": {\n                    styles: {'.MathJax_Display': {\"margin\": 4}}\n                }\n        });\n</script>\n",
      "text/plain": "<IPython.core.display.HTML object>"
     },
     "execution_count": 3,
     "metadata": {},
     "output_type": "execute_result"
    }
   ]
  },
  {
   "cell_type": "markdown",
   "source": "> (The cell above executes the style for this notebook.)",
   "metadata": {
    "cell_id": "00015-469e4f75-e0c3-4ac1-8f6e-f60cfee08dc7",
    "deepnote_cell_type": "markdown"
   }
  },
  {
   "cell_type": "markdown",
   "source": "<a style='text-decoration:none;line-height:16px;display:flex;color:#5B5B62;padding:10px;justify-content:end;' href='https://deepnote.com?utm_source=created-in-deepnote-cell&projectId=f89b38c5-96be-4dcf-9b5d-e1b96d9b5992' target=\"_blank\">\n<img alt='Created in deepnote.com' style='display:inline;max-height:16px;margin:0px;margin-right:7.5px;' src='data:image/svg+xml;base64,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' > </img>\nCreated in <span style='font-weight:600;margin-left:4px;'>Deepnote</span></a>",
   "metadata": {
    "tags": [],
    "created_in_deepnote_cell": true,
    "deepnote_cell_type": "markdown"
   }
  }
 ],
 "nbformat": 4,
 "nbformat_minor": 0,
 "metadata": {
  "kernelspec": {
   "display_name": "Python 3",
   "language": "python",
   "name": "python3"
  },
  "language_info": {
   "codemirror_mode": {
    "name": "ipython",
    "version": 3
   },
   "file_extension": ".py",
   "mimetype": "text/x-python",
   "name": "python",
   "nbconvert_exporter": "python",
   "pygments_lexer": "ipython3",
   "version": "3.5.2"
  },
  "deepnote_notebook_id": "661df1e2-dc12-4e06-8a7e-b1eff4bd7f1d",
  "deepnote": {},
  "deepnote_execution_queue": []
 }
}